{
 "cells": [
  {
   "cell_type": "code",
   "execution_count": 19,
   "id": "aef1860a",
   "metadata": {},
   "outputs": [],
   "source": [
    "#Import libraries\n",
    "from bs4 import BeautifulSoup\n",
    "import requests\n",
    "import time\n",
    "import datetime\n"
   ]
  },
  {
   "cell_type": "code",
   "execution_count": 68,
   "id": "a5ff1365",
   "metadata": {},
   "outputs": [
    {
     "name": "stdout",
     "output_type": "stream",
     "text": [
      "59\n",
      "                   \n",
      "                    . 99\n",
      "\n",
      "                   YuKaiChen Women's Ski Jacket Winter Warm Windproof Coat Fleece Hooded Snow Coat\n",
      "                  \n"
     ]
    }
   ],
   "source": [
    "# Connect to Website and pull in data\n",
    "\n",
    "URL = 'https://www.amazon.com/dp/B09D36FX7G?smid=&coliid=&colid=&th=1&psc=1'\n",
    "\n",
    "#get header from httpbin.org/get\n",
    "headers = {'User-Agent':\"Mozilla/5.0 (Windows NT 10.0; Win64; x64) AppleWebKit/537.36 (KHTML, like Gecko) Chrome/108.0.0.0 Safari/537.36\", \"Accept-Language\": \"en-US,en;q=0.9\"}\n",
    "\n",
    "page = requests.get(URL, headers=headers) #getting data\n",
    "\n",
    "soup1 = BeautifulSoup(page.content, \"html.parser\") # pulling out html file\n",
    "\n",
    "soup2 = BeautifulSoup(soup1.prettify(), \"html.parser\") #better formatting\n",
    "#print (soup1)\n",
    "\n",
    "title = soup2.find(id='productTitle').get_text()\n",
    "\n",
    "price_whole = soup2.find('span',{'class':'a-price-whole'}).text.strip()\n",
    "#price_fraction=soup2.find('span',{'class':'a-price-fraction'}).text.strip()\n",
    "\n",
    "\n",
    "#Another way for geting the prices of whole page\n",
    "#lines = spans.get_text() #producttitle found from html inspection \n",
    "#price = soup2.find(id='priceblock_ourprice').get_text()\n",
    "print(price_whole)\n",
    "\n",
    "print(title)\n"
   ]
  },
  {
   "cell_type": "code",
   "execution_count": 64,
   "id": "89b9ce63",
   "metadata": {},
   "outputs": [
    {
     "name": "stdout",
     "output_type": "stream",
     "text": [
      "YuKaiChen Women's Ski Jacket Winter Warm Windproof Coat Fleece Hooded Snow Coat\n",
      "59\n",
      "                   \n",
      "                    .99\n"
     ]
    }
   ],
   "source": [
    "# Organize title\n",
    "\n",
    "title = title.strip()\n",
    "\n",
    "print(title)\n",
    "print(price)"
   ]
  },
  {
   "cell_type": "code",
   "execution_count": 59,
   "id": "45b6e173",
   "metadata": {},
   "outputs": [
    {
     "name": "stdout",
     "output_type": "stream",
     "text": [
      "2022-12-30\n"
     ]
    }
   ],
   "source": [
    "# Create a Timestamp for your output to track when data was collected\n",
    "\n",
    "import datetime\n",
    "\n",
    "today = datetime.date.today()\n",
    "\n",
    "print(today)"
   ]
  },
  {
   "cell_type": "code",
   "execution_count": 60,
   "id": "b3de557d",
   "metadata": {},
   "outputs": [],
   "source": [
    "# Create CSV and write headers and data into the file\n",
    "\n",
    "import csv \n",
    "\n",
    "header = ['Title', 'Price', 'Date']\n",
    "data = [title, price, today]\n",
    "\n",
    "\n",
    "with open('AmazonWebScraperDataset.csv', 'w', newline='', encoding='UTF8') as f:\n",
    "    writer = csv.writer(f)\n",
    "    writer.writerow(header) # create header row \n",
    "    writer.writerow(data) # create data row"
   ]
  },
  {
   "cell_type": "code",
   "execution_count": 61,
   "id": "df2001e5",
   "metadata": {},
   "outputs": [
    {
     "name": "stdout",
     "output_type": "stream",
     "text": [
      "                                               Title  \\\n",
      "0  YuKaiChen Women's Ski Jacket Winter Warm Windp...   \n",
      "\n",
      "                                            Price        Date  \n",
      "0  59\\n                   \\n                    .  2022-12-30  \n"
     ]
    }
   ],
   "source": [
    "import pandas as pd\n",
    "\n",
    "df = pd.read_csv(r\"C:\\Users\\Nurana\\ML Projects\\AmazonWebScraperDataset.csv\")\n",
    "\n",
    "print(df)"
   ]
  },
  {
   "cell_type": "code",
   "execution_count": 69,
   "id": "264b6a87",
   "metadata": {},
   "outputs": [],
   "source": [
    "#Now creating function to iterate each time\n",
    "\n",
    "def price():\n",
    "    \n",
    "    URL = 'https://www.amazon.com/dp/B09D36FX7G?smid=&coliid=&colid=&th=1&psc=1'\n",
    "\n",
    "    #get header from httpbin.org/get\n",
    "    headers = {'User-Agent':\"Mozilla/5.0 (Windows NT 10.0; Win64; x64) AppleWebKit/537.36 (KHTML, like Gecko) Chrome/108.0.0.0 Safari/537.36\", \"Accept-Language\": \"en-US,en;q=0.9\"}\n",
    "\n",
    "    page = requests.get(URL, headers=headers) #getting data\n",
    "\n",
    "    soup1 = BeautifulSoup(page.content, \"html.parser\") # pulling out html file\n",
    "\n",
    "    soup2 = BeautifulSoup(soup1.prettify(), \"html.parser\") #better formatting\n",
    "    #print (soup1)\n",
    "\n",
    "    title = soup2.find(id='productTitle').get_text()\n",
    "\n",
    "    price_whole = soup2.find('span',{'class':'a-price-whole'}).text.strip()\n",
    "    title = title.strip()\n",
    "    import datetime\n",
    "\n",
    "    today = datetime.date.today()\n",
    "    import csv \n",
    "\n",
    "    header = ['Title', 'Price', 'Date']\n",
    "    data = [title, price, today]\n",
    "    #Now we are appending data to the csv\n",
    "\n",
    "    with open('AmazonWebScraperDataset.csv', 'a+', newline='', encoding='UTF8') as f:\n",
    "        writer = csv.writer(f)\n",
    "        writer.writerow(data)\n",
    "\n",
    "    \n",
    "\n",
    "\n",
    "\n",
    "\n",
    "\n"
   ]
  },
  {
   "cell_type": "code",
   "execution_count": null,
   "id": "750a6b03",
   "metadata": {},
   "outputs": [],
   "source": [
    "\n",
    "while(True):\n",
    "    price()\n",
    "    time.sleep(86400)"
   ]
  },
  {
   "cell_type": "code",
   "execution_count": null,
   "id": "f839574d",
   "metadata": {},
   "outputs": [],
   "source": [
    "import pandas as pd\n",
    "\n",
    "df = pd.read_csv(r'C:\\Users\\alexf\\AmazonWebScraperDataset.csv')\n",
    "\n",
    "print(df)"
   ]
  },
  {
   "cell_type": "code",
   "execution_count": null,
   "id": "6ab3f517",
   "metadata": {},
   "outputs": [],
   "source": []
  }
 ],
 "metadata": {
  "kernelspec": {
   "display_name": "Python 3 (ipykernel)",
   "language": "python",
   "name": "python3"
  },
  "language_info": {
   "codemirror_mode": {
    "name": "ipython",
    "version": 3
   },
   "file_extension": ".py",
   "mimetype": "text/x-python",
   "name": "python",
   "nbconvert_exporter": "python",
   "pygments_lexer": "ipython3",
   "version": "3.9.13"
  }
 },
 "nbformat": 4,
 "nbformat_minor": 5
}
